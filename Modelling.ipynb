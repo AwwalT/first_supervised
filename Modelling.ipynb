{
 "cells": [
  {
   "cell_type": "code",
   "execution_count": null,
   "id": "85ae654b-8df6-4c17-976a-0c40c3cd4a88",
   "metadata": {},
   "outputs": [],
   "source": [
    "import pandas as pd\n",
    "import numpy as np\n",
    "from sklearn.model_selection import train_test_split\n",
    "from sklearn.preprocessing import StandardScaler\n",
    "from sklearn.ensemble import RandomForestClassifier\n",
    "from sklearn.linear_model import LogisticRegression\n",
    "from sklearn.neighbors import KNeighborsClassifier\n",
    "from sklearn.metrics import accuracy_score, classification_report\n",
    "import joblib\n",
    "\n",
    "# Load the cleaned dataset\n",
    "file_path = \"/mnt/data/Cleaned-Data.csv\"\n",
    "df = pd.read_csv(file_path)\n",
    "\n",
    "# Combine Severity columns into a single target variable\n",
    "severity_columns = ['Severity_None', 'Severity_Mild', 'Severity_Moderate', 'Severity_Severe']\n",
    "df['Target_Severity'] = df[severity_columns].idxmax(axis=1)  # Get the column with the highest value\n",
    "\n",
    "# Drop the original one-hot encoded severity columns\n",
    "df.drop(columns=severity_columns, inplace=True)\n",
    "\n",
    "# Encode Target Column (Convert categorical values to numerical)\n",
    "df['Target_Severity'] = df['Target_Severity'].map({\n",
    "    'Severity_None': 0, 'Severity_Mild': 1, 'Severity_Moderate': 2, 'Severity_Severe': 3\n",
    "})\n",
    "\n",
    "# Split into features and target\n",
    "X = df.drop(columns=['Target_Severity'])\n",
    "y = df['Target_Severity']\n",
    "\n",
    "# Split into train and test sets\n",
    "X_train, X_test, y_train, y_test = train_test_split(X, y, test_size=0.2, random_state=42, stratify=y)\n",
    "\n",
    "# Standardization\n",
    "scaler = StandardScaler()\n",
    "X_train_scaled = scaler.fit_transform(X_train)\n",
    "X_test_scaled = scaler.transform(X_test)\n",
    "\n",
    "# Initialize models\n",
    "models = {\n",
    "    \"Logistic Regression\": LogisticRegression(max_iter=500),\n",
    "    \"Random Forest\": RandomForestClassifier(n_estimators=100, random_state=42),\n",
    "    \"KNN\": KNeighborsClassifier(n_neighbors=5)\n",
    "}\n",
    "\n",
    "# Train and evaluate each model\n",
    "best_model = None\n",
    "best_accuracy = 0\n",
    "\n",
    "for name, model in models.items():\n",
    "    model.fit(X_train_scaled, y_train)\n",
    "    y_pred = model.predict(X_test_scaled)\n",
    "    accuracy = accuracy_score(y_test, y_pred)\n",
    "    \n",
    "    print(f\"Model: {name}\")\n",
    "    print(f\"Accuracy: {accuracy:.4f}\")\n",
    "    print(classification_report(y_test, y_pred))\n",
    "    print(\"-\" * 50)\n",
    "    \n",
    "    # Save the best model\n",
    "    if accuracy > best_accuracy:\n",
    "        best_accuracy = accuracy\n",
    "        best_model = model\n",
    "\n",
    "# Save the best model and the scaler\n",
    "joblib.dump(best_model, \"/mnt/data/best_model.pkl\")\n",
    "joblib.dump(scaler, \"/mnt/data/scaler.pkl\")\n",
    "\n",
    "print(f\"Best model saved: {best_model}\")\n"
   ]
  },
  {
   "cell_type": "code",
   "execution_count": 1,
   "id": "33f841f8-cc60-4d62-b89e-331ef07d7c42",
   "metadata": {},
   "outputs": [],
   "source": [
    "import pandas as pd\n",
    "import numpy as np\n",
    "from sklearn.model_selection import train_test_split\n",
    "from sklearn.preprocessing import StandardScaler\n",
    "from sklearn.ensemble import RandomForestClassifier\n",
    "from sklearn.linear_model import LogisticRegression\n",
    "from sklearn.neighbors import KNeighborsClassifier\n",
    "from sklearn.metrics import accuracy_score, classification_report\n",
    "import joblib"
   ]
  },
  {
   "cell_type": "code",
   "execution_count": 3,
   "id": "2a2c8ebb-659c-464a-a570-775f2b85b872",
   "metadata": {},
   "outputs": [],
   "source": [
    "df = pd.read_csv(r\"C:\\Users\\HomePC\\Downloads\\archive (3)\\Cleaned-Data.csv\")"
   ]
  },
  {
   "cell_type": "code",
   "execution_count": 5,
   "id": "f010f3a5-f994-4226-a577-f270e92d82e9",
   "metadata": {},
   "outputs": [],
   "source": [
    "severity_columns = ['Severity_None', 'Severity_Mild', 'Severity_Moderate', 'Severity_Severe']\n",
    "df['Target_Severity'] = df[severity_columns].idxmax(axis=1)  # Get the column with the highest valu"
   ]
  },
  {
   "cell_type": "code",
   "execution_count": 7,
   "id": "29bb1c8b-ddf4-46b0-9a70-0daee625e875",
   "metadata": {},
   "outputs": [],
   "source": [
    "# Drop the original one-hot encoded severity columns\n",
    "df.drop(columns=severity_columns, inplace=True)"
   ]
  },
  {
   "cell_type": "code",
   "execution_count": 9,
   "id": "8240d0c0-d1ee-44e8-a9da-4c7a1adbc5cb",
   "metadata": {},
   "outputs": [],
   "source": [
    "# Encode Target Column (Convert categorical values to numerical)\n",
    "df['Target_Severity'] = df['Target_Severity'].map({\n",
    "    'Severity_None': 0, 'Severity_Mild': 1, 'Severity_Moderate': 2, 'Severity_Severe': 3\n",
    "})"
   ]
  },
  {
   "cell_type": "code",
   "execution_count": 11,
   "id": "b996fa79-be68-4d10-988f-97ed367e108b",
   "metadata": {},
   "outputs": [],
   "source": [
    "# Split into features and target\n",
    "X = df.drop(columns=['Target_Severity'])\n",
    "y = df['Target_Severity']"
   ]
  },
  {
   "cell_type": "code",
   "execution_count": 13,
   "id": "c4042c09-6e3d-4132-b087-fb2df2461c65",
   "metadata": {},
   "outputs": [],
   "source": [
    "# Split into train and test sets\n",
    "X_train, X_test, y_train, y_test = train_test_split(X, y, test_size=0.2, random_state=42, stratify=y)"
   ]
  },
  {
   "cell_type": "code",
   "execution_count": 23,
   "id": "200fd4b8-c4d3-49ec-a81f-4f39647e1905",
   "metadata": {},
   "outputs": [],
   "source": [
    "# Standardization\n",
    "scaler = StandardScaler()\n",
    "X_train_scaled = scaler.fit_transform(X_train)\n",
    "X_test_scaled = scaler.transform(X_test)\n"
   ]
  },
  {
   "cell_type": "code",
   "execution_count": 21,
   "id": "82db5f0d-5506-4a3e-a5ff-297cdbdc89e6",
   "metadata": {},
   "outputs": [],
   "source": [
    "import pandas as pd\n",
    "import numpy as np\n",
    "from sklearn.model_selection import train_test_split\n",
    "from sklearn.preprocessing import StandardScaler, LabelEncoder\n",
    "\n",
    "\n",
    "\n",
    "# Identify categorical columns (excluding the target)\n",
    "categorical_cols = df.select_dtypes(include=['object']).columns\n",
    "\n",
    "# Encode categorical columns using Label Encoding\n",
    "label_encoders = {}\n",
    "for col in categorical_cols:\n",
    "    label_encoders[col] = LabelEncoder()\n",
    "    df[col] = label_encoders[col].fit_transform(df[col])\n",
    "\n",
    "# Define target column (assumed)\n",
    "target_col = 'Target_Severity'  # Replace with your actual target column name\n",
    "\n",
    "# Split into features (X) and target (y)\n",
    "X = df.drop(columns=[target_col])\n",
    "y = df[target_col]\n",
    "\n",
    "# Split into train and test sets\n",
    "X_train, X_test, y_train, y_test = train_test_split(X, y, test_size=0.2, random_state=42, stratify=y)\n",
    "\n",
    "# Standardization (Now only on numeric features)\n",
    "scaler = StandardScaler()\n",
    "X_train_scaled = scaler.fit_transform(X_train)\n",
    "X_test_scaled = scaler.transform(X_test)\n",
    "\n"
   ]
  },
  {
   "cell_type": "code",
   "execution_count": 25,
   "id": "38e27148-a7ee-43f0-b72f-c47fda589851",
   "metadata": {},
   "outputs": [],
   "source": [
    "# Initialize models\n",
    "models = {\n",
    "    \"Logistic Regression\": LogisticRegression(max_iter=500),\n",
    "    \"Random Forest\": RandomForestClassifier(n_estimators=100, random_state=42),\n",
    "    \"KNN\": KNeighborsClassifier(n_neighbors=5)\n",
    "}"
   ]
  },
  {
   "cell_type": "code",
   "execution_count": 27,
   "id": "6a337c97-7186-474e-ae21-d381a0c2c87a",
   "metadata": {},
   "outputs": [],
   "source": [
    "# Train and evaluate each model\n",
    "best_model = None\n",
    "best_accuracy = 0"
   ]
  },
  {
   "cell_type": "code",
   "execution_count": 29,
   "id": "3437b50c-292e-49e6-aefd-c792b72589d9",
   "metadata": {},
   "outputs": [
    {
     "name": "stdout",
     "output_type": "stream",
     "text": [
      "Model: Logistic Regression\n",
      "Accuracy: 0.2425\n",
      "              precision    recall  f1-score   support\n",
      "\n",
      "           0       0.24      0.31      0.27     15840\n",
      "           1       0.24      0.21      0.23     15840\n",
      "           2       0.24      0.18      0.21     15840\n",
      "           3       0.24      0.26      0.25     15840\n",
      "\n",
      "    accuracy                           0.24     63360\n",
      "   macro avg       0.24      0.24      0.24     63360\n",
      "weighted avg       0.24      0.24      0.24     63360\n",
      "\n",
      "--------------------------------------------------\n",
      "Model: Random Forest\n",
      "Accuracy: 0.0019\n",
      "              precision    recall  f1-score   support\n",
      "\n",
      "           0       0.00      0.00      0.00     15840\n",
      "           1       0.00      0.00      0.00     15840\n",
      "           2       0.00      0.00      0.00     15840\n",
      "           3       0.00      0.00      0.00     15840\n",
      "\n",
      "    accuracy                           0.00     63360\n",
      "   macro avg       0.00      0.00      0.00     63360\n",
      "weighted avg       0.00      0.00      0.00     63360\n",
      "\n",
      "--------------------------------------------------\n",
      "Model: KNN\n",
      "Accuracy: 0.0353\n",
      "              precision    recall  f1-score   support\n",
      "\n",
      "           0       0.03      0.05      0.04     15840\n",
      "           1       0.04      0.04      0.04     15840\n",
      "           2       0.04      0.03      0.03     15840\n",
      "           3       0.04      0.02      0.03     15840\n",
      "\n",
      "    accuracy                           0.04     63360\n",
      "   macro avg       0.04      0.04      0.03     63360\n",
      "weighted avg       0.04      0.04      0.03     63360\n",
      "\n",
      "--------------------------------------------------\n"
     ]
    }
   ],
   "source": [
    "for name, model in models.items():\n",
    "    model.fit(X_train_scaled, y_train)\n",
    "    y_pred = model.predict(X_test_scaled)\n",
    "    accuracy = accuracy_score(y_test, y_pred)\n",
    "    \n",
    "    print(f\"Model: {name}\")\n",
    "    print(f\"Accuracy: {accuracy:.4f}\")\n",
    "    print(classification_report(y_test, y_pred))\n",
    "    print(\"-\" * 50)\n",
    "    \n",
    "    # Save the best model\n",
    "    if accuracy > best_accuracy:\n",
    "        best_accuracy = accuracy\n",
    "        best_model = model"
   ]
  },
  {
   "cell_type": "code",
   "execution_count": 38,
   "id": "e8e48bfc-ea6d-4204-8700-5832f1ac3e78",
   "metadata": {},
   "outputs": [
    {
     "data": {
      "text/plain": [
       "['C:\\\\Users\\\\HomePC\\\\Mr temitope class\\\\GoMyCode\\\\scaler.pkl']"
      ]
     },
     "execution_count": 38,
     "metadata": {},
     "output_type": "execute_result"
    }
   ],
   "source": [
    "# Save the best model and the scaler\n",
    "\n",
    "joblib.dump(scaler, r\"C:\\Users\\HomePC\\Mr temitope class\\GoMyCode\\scaler.pkl\")\n"
   ]
  },
  {
   "cell_type": "code",
   "execution_count": null,
   "id": "473e5341-2db2-40af-8c95-e4dfebed91f7",
   "metadata": {},
   "outputs": [],
   "source": []
  }
 ],
 "metadata": {
  "kernelspec": {
   "display_name": "Python [conda env:base] *",
   "language": "python",
   "name": "conda-base-py"
  },
  "language_info": {
   "codemirror_mode": {
    "name": "ipython",
    "version": 3
   },
   "file_extension": ".py",
   "mimetype": "text/x-python",
   "name": "python",
   "nbconvert_exporter": "python",
   "pygments_lexer": "ipython3",
   "version": "3.12.7"
  }
 },
 "nbformat": 4,
 "nbformat_minor": 5
}
